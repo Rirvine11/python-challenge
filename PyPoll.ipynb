{
 "cells": [
  {
   "cell_type": "code",
   "execution_count": 2,
   "metadata": {},
   "outputs": [],
   "source": [
    "import os\n",
    "import csv"
   ]
  },
  {
   "cell_type": "code",
   "execution_count": 42,
   "metadata": {},
   "outputs": [
    {
     "name": "stdout",
     "output_type": "stream",
     "text": [
      "Election Results\n",
      "  -------------------------\n",
      "Total Votes: 3521001\n",
      "  -------------------------\n",
      "Khan: 63% (2218231)\n",
      "Correy: 20% (704200)\n",
      "Li: 14% (492940)\n",
      "O'Tooley: 3% (105630)\n",
      "  -------------------------\n",
      "Winner: O'Tooley\n"
     ]
    }
   ],
   "source": [
    "budget = os.path.join(\".\", \"election_data.csv\")\n",
    "with open(budget, newline='') as csvfile:\n",
    "    csvreader = csv.reader(csvfile, delimiter=\",\")\n",
    "    header = next(csvreader)\n",
    "    total = 0\n",
    "    candidates = []\n",
    "    khanvotes = 0\n",
    "    correyvotes = 0\n",
    "    livotes = 0\n",
    "    otooleyvotes =0\n",
    "    for row in csvreader:\n",
    "        total = total + 1\n",
    "        if row[2] ==\"Khan\":\n",
    "            khanvotes += 1\n",
    "        elif row[2] ==\"Correy\":\n",
    "            correyvotes += 1\n",
    "        elif row[2] ==\"Li\":\n",
    "            livotes += 1\n",
    "        elif row[2] ==\"O'Tooley\":\n",
    "            otooleyvotes += 1        \n",
    "\n",
    "votes = {\"Correy\": correyvotes,\n",
    "         \"Li\": livotes,\n",
    "         \"O'Tooley\": otooleyvotes,\n",
    "         \"Khan\":khanvotes}\n",
    "winner = max(votes)\n",
    "\n",
    "print(\"Election Results\")\n",
    "print(\"  -------------------------\")\n",
    "print(\"Total Votes: \" + str(total))\n",
    "print(\"  -------------------------\")\n",
    "print(\"Khan: \" + \"{0:.0%}\".format(khanvotes/total) + \" (\" + str(khanvotes) + \")\")\n",
    "print(\"Correy: \" + \"{0:.0%}\".format(correyvotes/total) + \" (\" + str(correyvotes) + \")\")\n",
    "print(\"Li: \" + \"{0:.0%}\".format(livotes/total) + \" (\" + str(livotes) + \")\")\n",
    "print(\"O'Tooley: \" + \"{0:.0%}\".format(otooleyvotes/total) + \" (\" + str(otooleyvotes) + \")\")\n",
    "print(\"  -------------------------\")\n",
    "print(\"Winner: \" + str(winner))\n"
   ]
  },
  {
   "cell_type": "code",
   "execution_count": null,
   "metadata": {},
   "outputs": [],
   "source": []
  },
  {
   "cell_type": "code",
   "execution_count": null,
   "metadata": {},
   "outputs": [],
   "source": []
  }
 ],
 "metadata": {
  "kernelspec": {
   "display_name": "Python 3",
   "language": "python",
   "name": "python3"
  },
  "language_info": {
   "codemirror_mode": {
    "name": "ipython",
    "version": 3
   },
   "file_extension": ".py",
   "mimetype": "text/x-python",
   "name": "python",
   "nbconvert_exporter": "python",
   "pygments_lexer": "ipython3",
   "version": "3.7.0"
  }
 },
 "nbformat": 4,
 "nbformat_minor": 2
}
